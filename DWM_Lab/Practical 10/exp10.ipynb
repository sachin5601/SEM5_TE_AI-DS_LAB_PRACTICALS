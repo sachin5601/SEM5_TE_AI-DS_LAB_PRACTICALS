{
 "cells": [
  {
   "cell_type": "markdown",
   "metadata": {
    "id": "K1PzMCmhNo1n"
   },
   "source": [
    "EXP-10 (HITS ALGORITHM)"
   ]
  },
  {
   "cell_type": "code",
   "execution_count": null,
   "metadata": {
    "id": "vpyxNhyC9877"
   },
   "outputs": [],
   "source": [
    "import numpy as np\n",
    "import networkx as nx\n",
    "import matplotlib.pyplot as plt\n",
    "\n",
    "def hits(graph, num_iterations=100):\n",
    "    N = len(graph)\n",
    "\n",
    "    # Initialize hub and authority scores\n",
    "    hub_scores = np.ones(N)\n",
    "    authority_scores = np.ones(N)\n",
    "\n",
    "    for _ in range(num_iterations):\n",
    "        # Update authority scores\n",
    "        new_authority_scores = np.zeros(N)\n",
    "        for i in range(N):\n",
    "            for j in range(N):\n",
    "                if graph[j][i] == 1:  # If there's a link from j to i\n",
    "                    new_authority_scores[i] += hub_scores[j]\n",
    "\n",
    "        # Update hub scores\n",
    "        new_hub_scores = np.zeros(N)\n",
    "        for i in range(N):\n",
    "            for j in range(N):\n",
    "                if graph[i][j] == 1:  # If there's a link from i to j\n",
    "                    new_hub_scores[i] += new_authority_scores[j]\n",
    "\n",
    "        # Normalize authority scores\n",
    "        authority_norm = np.linalg.norm(new_authority_scores, 2)\n",
    "        if authority_norm > 0:\n",
    "            new_authority_scores /= authority_norm\n",
    "\n",
    "        # Normalize hub scores\n",
    "        hub_norm = np.linalg.norm(new_hub_scores, 2)\n",
    "        if hub_norm > 0:\n",
    "            new_hub_scores /= hub_norm\n",
    "\n",
    "        # Check for convergence\n",
    "        if (np.all(np.abs(new_authority_scores - authority_scores) < 1e-6) and\n",
    "            np.all(np.abs(new_hub_scores - hub_scores) < 1e-6)):\n",
    "            break\n",
    "\n",
    "        authority_scores = new_authority_scores\n",
    "        hub_scores = new_hub_scores\n",
    "\n",
    "    return authority_scores, hub_scores\n",
    "\n",
    "def visualize_graph(graph, authority_scores, hub_scores, pages):\n",
    "    G = nx.DiGraph()\n",
    "\n",
    "    # Add edges to the graph\n",
    "    for i in range(len(graph)):\n",
    "        for j in range(len(graph)):\n",
    "            if graph[i][j] == 1:\n",
    "                G.add_edge(pages[i], pages[j])\n",
    "\n",
    "    pos = nx.spring_layout(G)  # positions for all nodes\n",
    "    nx.draw(G, pos, with_labels=True, node_size=2000, node_color='lightblue', font_size=10, font_weight='bold')\n",
    "\n",
    "    # Display scores on the nodes\n",
    "    labels = {pages[i]: f\"{pages[i]}\\nA:{authority_scores[i]:.2f}\\nH:{hub_scores[i]:.2f}\" for i in range(len(pages))}\n",
    "    nx.draw_networkx_labels(G, pos, labels=labels)\n",
    "\n",
    "    plt.title(\"HITS Algorithm: Authority and Hub Scores\")\n",
    "    plt.show()\n",
    "\n",
    "# Example usage\n",
    "pages = ['A', 'B', 'C']\n",
    "graph = np.array([[0, 1, 1],  # A -> B, A -> C\n",
    "                  [1, 0, 0],  # B -> A\n",
    "                  [0, 1, 0]]) # C -> B\n",
    "\n",
    "authority_scores, hub_scores = hits(graph)\n",
    "print(\"Authority Scores:\", authority_scores)\n",
    "print(\"Hub Scores:\", hub_scores)\n",
    "\n",
    "# Visualize the graph\n",
    "visualize_graph(graph, authority_scores, hub_scores, pages)\n"
   ]
  }
 ],
 "metadata": {
  "colab": {
   "provenance": []
  },
  "kernelspec": {
   "display_name": "Python 3",
   "name": "python3"
  }
 },
 "nbformat": 4,
 "nbformat_minor": 0
}
