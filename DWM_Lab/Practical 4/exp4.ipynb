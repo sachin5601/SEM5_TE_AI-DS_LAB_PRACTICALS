{
 "cells": [
  {
   "cell_type": "markdown",
   "metadata": {
    "id": "YNhdn5vE4Xbv"
   },
   "source": [
    "Exp-04 (Navies Bayes Algorithm)"
   ]
  },
  {
   "cell_type": "code",
   "execution_count": null,
   "metadata": {
    "id": "4ovQY_V04dPn"
   },
   "outputs": [],
   "source": [
    "import pandas as pd\n",
    "\n",
    "def calculate_probability(df, class_label):\n",
    "    class_count = df['Class'].value_counts().get(class_label, 0)\n",
    "    total_count = len(df)\n",
    "    probability = class_count / total_count\n",
    "    print(f\"Probability of '{class_label}': {probability:.4f}\")\n",
    "    return probability\n",
    "\n",
    "def calculate_conditional_probability(df, feature, value, class_label):\n",
    "    # Convert boolean to string if necessary\n",
    "    if isinstance(value, bool):\n",
    "        value = str(value)\n",
    "\n",
    "    # Handle case where feature values might be boolean\n",
    "    if df[feature].dtype == bool:\n",
    "        value = value.lower() == 'true'  # Convert string 'true'/'false' to boolean\n",
    "\n",
    "    # Filter rows and calculate probability\n",
    "    matching_rows = df[(df[feature].astype(str).str.strip().str.lower() == str(value).lower()) & (df['Class'] == class_label)]\n",
    "    matching_count = len(matching_rows)\n",
    "    class_count = df['Class'].value_counts().get(class_label, 0)\n",
    "    probability = matching_count / class_count if class_count > 0 else 0\n",
    "    print(f\"Conditional probability of '{feature}' = '{value}' given '{class_label}': {probability:.4f}\")\n",
    "    return probability\n",
    "\n",
    "def predict_class(df, outlook, temperature, humidity, windy):\n",
    "    print(\"\\nCalculating probabilities for prediction...\")\n",
    "\n",
    "    # Overall probabilities\n",
    "    play_probability = calculate_probability(df, \"Play\")\n",
    "    noplay_probability = calculate_probability(df, \"No Play\")\n",
    "\n",
    "    # Conditional probabilities for 'Play'\n",
    "    i1_playprobability = calculate_conditional_probability(df, 'Outlook', outlook, \"Play\")\n",
    "    i2_playprobability = calculate_conditional_probability(df, 'Temperature', temperature, \"Play\")\n",
    "    i3_playprobability = calculate_conditional_probability(df, 'Humidity', humidity, \"Play\")\n",
    "    i4_playprobability = calculate_conditional_probability(df, 'Windy', windy, \"Play\")\n",
    "\n",
    "    # Conditional probabilities for 'No Play'\n",
    "    i1_noplayprobability = calculate_conditional_probability(df, 'Outlook', outlook, \"No Play\")\n",
    "    i2_noplayprobability = calculate_conditional_probability(df, 'Temperature', temperature, \"No Play\")\n",
    "    i3_noplayprobability = calculate_conditional_probability(df, 'Humidity', humidity, \"No Play\")\n",
    "    i4_noplayprobability = calculate_conditional_probability(df, 'Windy', windy, \"No Play\")\n",
    "\n",
    "    # Final probabilities\n",
    "    final_playprobability = play_probability * i1_playprobability * i2_playprobability * i3_playprobability * i4_playprobability\n",
    "    final_noplayprobability = noplay_probability * i1_noplayprobability * i2_noplayprobability * i3_noplayprobability * i4_noplayprobability\n",
    "\n",
    "    print(f\"Final probability of 'Play': {final_playprobability:.4f}\")\n",
    "    print(f\"Final probability of 'No Play': {final_noplayprobability:.4f}\")\n",
    "\n",
    "    return \"Play\" if final_playprobability > final_noplayprobability else \"No Play\"\n",
    "\n",
    "def main():\n",
    "    df_train = pd.read_csv(\"navie_weather.csv\")\n",
    "    df_test = pd.read_csv(\"navie_test.csv\")\n",
    "\n",
    "    correct_predictions = 0\n",
    "\n",
    "    # Iterate over each row in the test DataFrame\n",
    "    for index, row in df_test.iterrows():\n",
    "        outlook = row['Outlook']\n",
    "        temperature = row['Temperature']\n",
    "        humidity = row['Humidity']\n",
    "        windy = row['Windy']\n",
    "        actual_class = row['Class']\n",
    "\n",
    "        # Predict class\n",
    "        predicted_class = predict_class(df_train, outlook, temperature, humidity, windy)\n",
    "        # Store predicted class in DataFrame\n",
    "        df_test.at[index, 'Predicted Class'] = predicted_class\n",
    "\n",
    "        # Compare and count correct predictions\n",
    "        if predicted_class == actual_class:\n",
    "            correct_predictions += 1\n",
    "\n",
    "    # Calculate accuracy\n",
    "    accuracy = (correct_predictions / len(df_test)) * 100\n",
    "    print(f\"Accuracy: {accuracy:.2f}%\")\n",
    "\n",
    "    df_test.to_csv(\"test_with_predictions.csv\", index=False)\n",
    "\n",
    "if __name__ == \"__main__\":\n",
    "    main()\n"
   ]
  }
 ],
 "metadata": {
  "colab": {
   "provenance": []
  },
  "kernelspec": {
   "display_name": "Python 3",
   "name": "python3"
  }
 },
 "nbformat": 4,
 "nbformat_minor": 0
}
