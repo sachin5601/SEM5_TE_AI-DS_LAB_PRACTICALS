{
 "cells": [
  {
   "cell_type": "markdown",
   "metadata": {
    "id": "XQicwLLiFczy"
   },
   "source": [
    "EXP-09 (PAGE RANK ALGORITHM)"
   ]
  },
  {
   "cell_type": "code",
   "execution_count": null,
   "metadata": {
    "id": "vgoWEpJpFmfh"
   },
   "outputs": [],
   "source": [
    "import numpy as np\n",
    "\n",
    "def page_rank(graph, num_iterations=100, d=0.85):\n",
    "    \"\"\"\n",
    "    Computes the PageRank of each node in the graph.\n",
    "\n",
    "    Parameters:\n",
    "    - graph: dict, a dictionary where keys are node IDs and values are lists of nodes they link to\n",
    "    - num_iterations: int, number of iterations to perform\n",
    "    - d: float, damping factor (usually set to 0.85)\n",
    "\n",
    "    Returns:\n",
    "    - rank: dict, a dictionary of nodes with their corresponding PageRank scores\n",
    "    \"\"\"\n",
    "\n",
    "    # Number of nodes\n",
    "    num_nodes = len(graph)\n",
    "\n",
    "    # Initialize PageRank scores\n",
    "    rank = {node: 1 / num_nodes for node in graph}\n",
    "\n",
    "    for iteration in range(num_iterations):\n",
    "        new_rank = {node: (1 - d) / num_nodes for node in graph}\n",
    "\n",
    "        for node, links in graph.items():\n",
    "            if len(links) == 0:\n",
    "                continue  # Handle dangling nodes\n",
    "            for link in links:\n",
    "                new_rank[link] += d * (rank[node] / len(links))\n",
    "\n",
    "        rank = new_rank\n",
    "\n",
    "        # Print the PageRank scores for this iteration\n",
    "        print(f\"Iteration {iteration + 1}: {rank}\")\n",
    "\n",
    "    return rank\n",
    "\n",
    "# Example graph represented as an adjacency list\n",
    "graph = {\n",
    "    'A': ['B', 'C'],\n",
    "    'B': ['C'],\n",
    "    'C': ['A'],\n",
    "    'D': ['B'],\n",
    "    'E': ['A', 'D']\n",
    "}\n",
    "\n",
    "# Compute PageRank with iteration visualization\n",
    "rank_scores = page_rank(graph, num_iterations=10)\n",
    "print(\"Final PageRank scores:\", rank_scores)\n",
    "\n"
   ]
  }
 ],
 "metadata": {
  "colab": {
   "provenance": []
  },
  "kernelspec": {
   "display_name": "Python 3",
   "name": "python3"
  }
 },
 "nbformat": 4,
 "nbformat_minor": 0
}
