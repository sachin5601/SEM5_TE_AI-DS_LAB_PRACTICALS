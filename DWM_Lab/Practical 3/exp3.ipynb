{
 "cells": [
  {
   "cell_type": "markdown",
   "metadata": {
    "id": "BGireaCVNA4t"
   },
   "source": [
    "exp-03(binning)"
   ]
  },
  {
   "cell_type": "code",
   "execution_count": null,
   "metadata": {
    "id": "1zxblGyiMAL1"
   },
   "outputs": [],
   "source": [
    "# Function to partition data into equal-frequency (equi-depth) bins\n",
    "def partition_into_bins(data, num_bins):\n",
    "    data.sort()  # Sort the data\n",
    "    n = len(data)\n",
    "\n",
    "    # Calculate how many items should go into each bin\n",
    "    bin_size = n // num_bins\n",
    "    remainder = n % num_bins  # Remainder to distribute among bins\n",
    "\n",
    "    bins = []\n",
    "    start_index = 0\n",
    "\n",
    "    for i in range(num_bins):\n",
    "        # Calculate the size of the current bin\n",
    "        current_bin_size = bin_size + (1 if i < remainder else 0)  # Distribute the remainder\n",
    "\n",
    "        # Append the current bin to the list of bins\n",
    "        bins.append(data[start_index:start_index + current_bin_size])\n",
    "        start_index += current_bin_size  # Move the start index for the next bin\n",
    "\n",
    "    return bins\n",
    "\n",
    "# Function to smooth data by bin means\n",
    "def smooth_by_bin_means(bins):\n",
    "    smoothed_bins = []\n",
    "\n",
    "    for bin in bins:\n",
    "        bin_mean = sum(bin) // len(bin)  # Calculate bin mean\n",
    "        smoothed_bins.append([bin_mean] * len(bin))  # Replace all elements in bin by mean\n",
    "\n",
    "    return smoothed_bins\n",
    "\n",
    "# Function to smooth data by bin boundaries\n",
    "def smooth_by_bin_boundaries(bins):\n",
    "    smoothed_bins = []\n",
    "\n",
    "    for bin in bins:\n",
    "        min_boundary = bin[0]  # Minimum value in the bin\n",
    "        max_boundary = bin[-1]  # Maximum value in the bin\n",
    "\n",
    "        # Replace each element with the closest boundary\n",
    "        smoothed_bin = []\n",
    "        for value in bin:\n",
    "            if value - min_boundary <= max_boundary - value:\n",
    "                smoothed_bin.append(min_boundary)\n",
    "            else:\n",
    "                smoothed_bin.append(max_boundary)\n",
    "        smoothed_bins.append(smoothed_bin)\n",
    "\n",
    "    return smoothed_bins\n",
    "\n",
    "# Main function to take user input and perform binning\n",
    "def main():\n",
    "    # Input data from user (comma-separated values)\n",
    "    data_input = input(\"Enter the data (comma-separated values): \")\n",
    "    data = list(map(int, data_input.split(',')))  # Convert to a list of integers\n",
    "\n",
    "    # Input bin size from user\n",
    "    num_bins = int(input(\"Enter the number of bins: \"))\n",
    "\n",
    "    # Partition the data into equal-frequency bins\n",
    "    bins = partition_into_bins(data, num_bins)\n",
    "\n",
    "    # Print original bins\n",
    "    print(\"\\nOriginal Equal-Frequency Bins:\")\n",
    "    for i, bin in enumerate(bins, 1):\n",
    "        print(f\"Bin {i}: {bin}\")\n",
    "\n",
    "    # Perform smoothing by bin means and retain the same bin structure\n",
    "    smoothed_by_means = smooth_by_bin_means(bins)\n",
    "    print(\"\\nSmoothing by Bin Means (in bins):\")\n",
    "    for i, bin in enumerate(smoothed_by_means, 1):\n",
    "        print(f\"Bin {i}: {bin}\")\n",
    "\n",
    "    # Perform smoothing by bin boundaries and retain the same bin structure\n",
    "    smoothed_by_boundaries = smooth_by_bin_boundaries(bins)\n",
    "    print(\"\\nSmoothing by Bin Boundaries (in bins):\")\n",
    "    for i, bin in enumerate(smoothed_by_boundaries, 1):\n",
    "        print(f\"Bin {i}: {bin}\")\n",
    "\n",
    "# Run the main function\n",
    "if __name__ == \"__main__\":\n",
    "    main()\n"
   ]
  }
 ],
 "metadata": {
  "colab": {
   "provenance": []
  },
  "kernelspec": {
   "display_name": "Python 3",
   "name": "python3"
  }
 },
 "nbformat": 4,
 "nbformat_minor": 0
}
