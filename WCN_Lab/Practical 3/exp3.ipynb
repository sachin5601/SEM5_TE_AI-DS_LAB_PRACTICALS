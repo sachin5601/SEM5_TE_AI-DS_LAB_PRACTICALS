# Function to partition data into equal-frequency (equi-depth) bins
def partition_into_bins(data, num_bins):
    data.sort()  # Sort the data
    n = len(data)

    # Calculate how many items should go into each bin
    bin_size = n // num_bins
    remainder = n % num_bins  # Remainder to distribute among bins

    bins = []
    start_index = 0

    for i in range(num_bins):
        # Calculate the size of the current bin
        current_bin_size = bin_size + (1 if i < remainder else 0)  # Distribute the remainder

        # Append the current bin to the list of bins
        bins.append(data[start_index:start_index + current_bin_size])
        start_index += current_bin_size  # Move the start index for the next bin

    return bins

# Function to smooth data by bin means
def smooth_by_bin_means(bins):
    smoothed_bins = []

    for bin in bins:
        bin_mean = sum(bin) // len(bin)  # Calculate bin mean
        smoothed_bins.append([bin_mean] * len(bin))  # Replace all elements in bin by mean

    return smoothed_bins

# Function to smooth data by bin boundaries
def smooth_by_bin_boundaries(bins):
    smoothed_bins = []

    for bin in bins:
        min_boundary = bin[0]  # Minimum value in the bin
        max_boundary = bin[-1]  # Maximum value in the bin

        # Replace each element with the closest boundary
        smoothed_bin = []
        for value in bin:
            if value - min_boundary <= max_boundary - value:
                smoothed_bin.append(min_boundary)
            else:
                smoothed_bin.append(max_boundary)
        smoothed_bins.append(smoothed_bin)

    return smoothed_bins

# Main function to take user input and perform binning
def main():
    # Input data from user (comma-separated values)
    data_input = input("Enter the data (comma-separated values): ")
    data = list(map(int, data_input.split(',')))  # Convert to a list of integers

    # Input bin size from user
    num_bins = int(input("Enter the number of bins: "))

    # Partition the data into equal-frequency bins
    bins = partition_into_bins(data, num_bins)

    # Print original bins
    print("\nOriginal Equal-Frequency Bins:")
    for i, bin in enumerate(bins, 1):
        print(f"Bin {i}: {bin}")

    # Perform smoothing by bin means and retain the same bin structure
    smoothed_by_means = smooth_by_bin_means(bins)
    print("\nSmoothing by Bin Means (in bins):")
    for i, bin in enumerate(smoothed_by_means, 1):
        print(f"Bin {i}: {bin}")

    # Perform smoothing by bin boundaries and retain the same bin structure
    smoothed_by_boundaries = smooth_by_bin_boundaries(bins)
    print("\nSmoothing by Bin Boundaries (in bins):")
    for i, bin in enumerate(smoothed_by_boundaries, 1):
        print(f"Bin {i}: {bin}")

# Run the main function
if __name__ == "__main__":
    main()
